{
 "cells": [
  {
   "cell_type": "code",
   "execution_count": 10,
   "metadata": {},
   "outputs": [],
   "source": [
    "import pyspark\n",
    "\n",
    "sc = pyspark.SparkContext.getOrCreate()"
   ]
  },
  {
   "cell_type": "code",
   "execution_count": 24,
   "metadata": {},
   "outputs": [
    {
     "data": {
      "text/plain": [
       "19"
      ]
     },
     "execution_count": 24,
     "metadata": {},
     "output_type": "execute_result"
    }
   ],
   "source": [
    "baby_names = sc.textFile(\"./data/baby_names_reduced.csv\")\n",
    "baby_names.count()"
   ]
  },
  {
   "cell_type": "code",
   "execution_count": 25,
   "metadata": {},
   "outputs": [
    {
     "name": "stdout",
     "output_type": "stream",
     "text": [
      "First Name\n",
      "DAVID\n",
      "JAYDEN\n",
      "JAYDEN\n",
      "MOSHE\n",
      "ETHAN\n",
      "SOPHIA\n",
      "DANIEL\n",
      "JACOB\n",
      "ESTHER\n",
      "ETHAN\n",
      "ISABELLA\n",
      "DANIEL\n",
      "JACOB\n",
      "AIDEN\n",
      "LEAH\n",
      "NOAH\n",
      "JOSEPH\n",
      "MATTHEW\n"
     ]
    }
   ],
   "source": [
    "# map used to iterate over every line in file\n",
    "# pass in lambda to split into an array of columns\n",
    "rows = baby_names.map(lambda line: line.split(\",\"))\n",
    "# print out the data\n",
    "for row in rows.take(rows.count()): print(row[1])"
   ]
  },
  {
   "cell_type": "code",
   "execution_count": 22,
   "metadata": {},
   "outputs": [
    {
     "data": {
      "text/plain": [
       "19"
      ]
     },
     "execution_count": 22,
     "metadata": {},
     "output_type": "execute_result"
    }
   ],
   "source": [
    "names2.flatMap(lambda t: [t[1]]).reduce(lambda t1, t2: t1+t2)"
   ]
  },
  {
   "cell_type": "code",
   "execution_count": 27,
   "metadata": {},
   "outputs": [
    {
     "data": {
      "text/plain": [
       "[[u'2013', u'DAVID', u'KINGS', u'M', u'272']]"
      ]
     },
     "execution_count": 27,
     "metadata": {},
     "output_type": "execute_result"
    }
   ],
   "source": [
    "rows.filter(lambda line: \"DAVID\" in line).collect()"
   ]
  },
  {
   "cell_type": "code",
   "execution_count": 28,
   "metadata": {},
   "outputs": [
    {
     "data": {
      "text/plain": [
       "[{'JACOB': ['KINGS', 'QUEENS']},\n",
       " {'LEAH': ['KINGS']},\n",
       " {'AIDEN': ['KINGS']},\n",
       " {'NOAH': ['KINGS']},\n",
       " {'SOPHIA': ['QUEENS']},\n",
       " {'ESTHER': ['KINGS']},\n",
       " {'ISABELLA': ['QUEENS']},\n",
       " {'MATTHEW': ['QUEENS']},\n",
       " {'DAVID': ['KINGS']},\n",
       " {'First Name': ['County']},\n",
       " {'DANIEL': ['QUEENS', 'KINGS']},\n",
       " {'ETHAN': ['QUEENS', 'KINGS']},\n",
       " {'JOSEPH': ['KINGS']},\n",
       " {'MOSHE': ['KINGS']},\n",
       " {'JAYDEN': ['KINGS', 'QUEENS']}]"
      ]
     },
     "execution_count": 28,
     "metadata": {},
     "output_type": "execute_result"
    }
   ],
   "source": [
    "rows = baby_names.map(lambda line: line.split(\",\"))\n",
    "namesToCounties = rows.map(lambda n: (str(n[1]),str(n[2]) )).groupByKey()\n",
    "namesToCounties.map(lambda x : {x[0]: list(x[1])}).collect()"
   ]
  },
  {
   "cell_type": "code",
   "execution_count": null,
   "metadata": {},
   "outputs": [],
   "source": []
  }
 ],
 "metadata": {
  "kernelspec": {
   "display_name": "Python 2",
   "language": "python",
   "name": "python2"
  },
  "language_info": {
   "codemirror_mode": {
    "name": "ipython",
    "version": 2
   },
   "file_extension": ".py",
   "mimetype": "text/x-python",
   "name": "python",
   "nbconvert_exporter": "python",
   "pygments_lexer": "ipython2",
   "version": "2.7.10"
  }
 },
 "nbformat": 4,
 "nbformat_minor": 2
}
